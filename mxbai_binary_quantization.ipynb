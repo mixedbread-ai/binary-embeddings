{
 "cells": [
  {
   "cell_type": "markdown",
   "metadata": {},
   "source": [
    "# Binary embeddings with [mixedbread-ai/mxbai-embed-large-v1](https://huggingface.co/mixedbread-ai/mxbai-embed-large-v1)\n",
    "\n",
    "Our model was trained to have a non-'clunky' embeddings space. This allows for quantizing the embeddings with low performance loss compared to techniques like Matryoshka. With binary embeddings, we can use the Hamming distance, which is well optimized for CPUs.\n",
    "\n",
    "In general, the approach is divided into 2 steps:\n",
    "\n",
    "1. Retrieve candidates based on Hamming distance.\n",
    "2. Rescore the candidates based on the dot product between the binary embedding and the floating embedding of the query.\n",
    "\n",
    "We find that we can retain ~96-99% of the performance, achieve ~40x faster retrieval, and realize 32x storage savings."
   ]
  },
  {
   "cell_type": "code",
   "execution_count": 1,
   "metadata": {},
   "outputs": [
    {
     "name": "stdout",
     "output_type": "stream",
     "text": [
      "Requirement already satisfied: sentence_transformers in /home/aamir/.local/lib/python3.9/site-packages (2.6.0.dev0)\n",
      "Requirement already satisfied: datasets in /home/aamir/.local/lib/python3.9/site-packages (2.18.0)\n",
      "Requirement already satisfied: beir in /home/aamir/.local/lib/python3.9/site-packages (2.0.0)\n",
      "Requirement already satisfied: faiss-cpu in /home/aamir/.local/lib/python3.9/site-packages (1.8.0)\n",
      "Requirement already satisfied: pytrec-eval in /home/aamir/.local/lib/python3.9/site-packages (from beir) (0.5)\n",
      "Requirement already satisfied: elasticsearch==7.9.1 in /home/aamir/.local/lib/python3.9/site-packages (from beir) (7.9.1)\n",
      "Requirement already satisfied: certifi in /usr/lib/python3/dist-packages (from elasticsearch==7.9.1->beir) (2020.6.20)\n",
      "Requirement already satisfied: urllib3>=1.21.1 in /home/aamir/.local/lib/python3.9/site-packages (from elasticsearch==7.9.1->beir) (2.2.1)\n",
      "Requirement already satisfied: dill<0.3.9,>=0.3.0 in /home/aamir/.local/lib/python3.9/site-packages (from datasets) (0.3.8)\n",
      "Requirement already satisfied: huggingface-hub>=0.19.4 in /home/aamir/.local/lib/python3.9/site-packages (from datasets) (0.21.4)\n",
      "Requirement already satisfied: tqdm>=4.62.1 in /home/aamir/.local/lib/python3.9/site-packages (from datasets) (4.66.2)\n",
      "Requirement already satisfied: filelock in /home/aamir/.local/lib/python3.9/site-packages (from datasets) (3.13.1)\n",
      "Requirement already satisfied: pyyaml>=5.1 in /home/aamir/.local/lib/python3.9/site-packages (from datasets) (6.0.1)\n",
      "Requirement already satisfied: pyarrow-hotfix in /home/aamir/.local/lib/python3.9/site-packages (from datasets) (0.6)\n",
      "Requirement already satisfied: pyarrow>=12.0.0 in /home/aamir/.local/lib/python3.9/site-packages (from datasets) (15.0.1)\n",
      "Requirement already satisfied: requests>=2.19.0 in /home/aamir/.local/lib/python3.9/site-packages (from datasets) (2.31.0)\n",
      "Requirement already satisfied: xxhash in /home/aamir/.local/lib/python3.9/site-packages (from datasets) (3.4.1)\n",
      "Requirement already satisfied: fsspec[http]<=2024.2.0,>=2023.1.0 in /home/aamir/.local/lib/python3.9/site-packages (from datasets) (2024.2.0)\n",
      "Requirement already satisfied: packaging in /home/aamir/.local/lib/python3.9/site-packages (from datasets) (23.2)\n",
      "Requirement already satisfied: pandas in /home/aamir/.local/lib/python3.9/site-packages (from datasets) (2.2.1)\n",
      "Requirement already satisfied: aiohttp in /home/aamir/.local/lib/python3.9/site-packages (from datasets) (3.9.1)\n",
      "Requirement already satisfied: multiprocess in /home/aamir/.local/lib/python3.9/site-packages (from datasets) (0.70.16)\n",
      "Requirement already satisfied: numpy>=1.17 in /home/aamir/.local/lib/python3.9/site-packages (from datasets) (1.26.4)\n",
      "Requirement already satisfied: frozenlist>=1.1.1 in /home/aamir/.local/lib/python3.9/site-packages (from aiohttp->datasets) (1.4.1)\n",
      "Requirement already satisfied: async-timeout<5.0,>=4.0 in /home/aamir/.local/lib/python3.9/site-packages (from aiohttp->datasets) (4.0.3)\n",
      "Requirement already satisfied: multidict<7.0,>=4.5 in /home/aamir/.local/lib/python3.9/site-packages (from aiohttp->datasets) (6.0.5)\n",
      "Requirement already satisfied: yarl<2.0,>=1.0 in /home/aamir/.local/lib/python3.9/site-packages (from aiohttp->datasets) (1.9.4)\n",
      "Requirement already satisfied: aiosignal>=1.1.2 in /home/aamir/.local/lib/python3.9/site-packages (from aiohttp->datasets) (1.3.1)\n",
      "Requirement already satisfied: attrs>=17.3.0 in /home/aamir/.local/lib/python3.9/site-packages (from aiohttp->datasets) (23.2.0)\n",
      "Requirement already satisfied: typing-extensions>=3.7.4.3 in /home/aamir/.local/lib/python3.9/site-packages (from huggingface-hub>=0.19.4->datasets) (4.10.0)\n",
      "Requirement already satisfied: charset-normalizer<4,>=2 in /home/aamir/.local/lib/python3.9/site-packages (from requests>=2.19.0->datasets) (3.3.2)\n",
      "Requirement already satisfied: idna<4,>=2.5 in /usr/lib/python3/dist-packages (from requests>=2.19.0->datasets) (2.10)\n",
      "Requirement already satisfied: transformers<5.0.0,>=4.32.0 in /home/aamir/.local/lib/python3.9/site-packages (from sentence_transformers) (4.38.2)\n",
      "Requirement already satisfied: scipy in /home/aamir/.local/lib/python3.9/site-packages (from sentence_transformers) (1.12.0)\n",
      "Requirement already satisfied: torch>=1.11.0 in /home/aamir/.local/lib/python3.9/site-packages (from sentence_transformers) (2.2.1)\n",
      "Requirement already satisfied: scikit-learn in /home/aamir/.local/lib/python3.9/site-packages (from sentence_transformers) (1.4.1.post1)\n",
      "Requirement already satisfied: Pillow in /home/aamir/.local/lib/python3.9/site-packages (from sentence_transformers) (10.2.0)\n",
      "Requirement already satisfied: nvidia-cublas-cu12==12.1.3.1 in /home/aamir/.local/lib/python3.9/site-packages (from torch>=1.11.0->sentence_transformers) (12.1.3.1)\n",
      "Requirement already satisfied: nvidia-cudnn-cu12==8.9.2.26 in /home/aamir/.local/lib/python3.9/site-packages (from torch>=1.11.0->sentence_transformers) (8.9.2.26)\n",
      "Requirement already satisfied: networkx in /home/aamir/.local/lib/python3.9/site-packages (from torch>=1.11.0->sentence_transformers) (3.2.1)\n",
      "Requirement already satisfied: nvidia-cusolver-cu12==11.4.5.107 in /home/aamir/.local/lib/python3.9/site-packages (from torch>=1.11.0->sentence_transformers) (11.4.5.107)\n",
      "Requirement already satisfied: nvidia-nvtx-cu12==12.1.105 in /home/aamir/.local/lib/python3.9/site-packages (from torch>=1.11.0->sentence_transformers) (12.1.105)\n",
      "Requirement already satisfied: nvidia-cuda-runtime-cu12==12.1.105 in /home/aamir/.local/lib/python3.9/site-packages (from torch>=1.11.0->sentence_transformers) (12.1.105)\n",
      "Requirement already satisfied: sympy in /home/aamir/.local/lib/python3.9/site-packages (from torch>=1.11.0->sentence_transformers) (1.12)\n",
      "Requirement already satisfied: nvidia-curand-cu12==10.3.2.106 in /home/aamir/.local/lib/python3.9/site-packages (from torch>=1.11.0->sentence_transformers) (10.3.2.106)\n",
      "Requirement already satisfied: nvidia-nccl-cu12==2.19.3 in /home/aamir/.local/lib/python3.9/site-packages (from torch>=1.11.0->sentence_transformers) (2.19.3)\n",
      "Requirement already satisfied: nvidia-cusparse-cu12==12.1.0.106 in /home/aamir/.local/lib/python3.9/site-packages (from torch>=1.11.0->sentence_transformers) (12.1.0.106)\n",
      "Requirement already satisfied: nvidia-cufft-cu12==11.0.2.54 in /home/aamir/.local/lib/python3.9/site-packages (from torch>=1.11.0->sentence_transformers) (11.0.2.54)\n",
      "Requirement already satisfied: nvidia-cuda-cupti-cu12==12.1.105 in /home/aamir/.local/lib/python3.9/site-packages (from torch>=1.11.0->sentence_transformers) (12.1.105)\n",
      "Requirement already satisfied: triton==2.2.0 in /home/aamir/.local/lib/python3.9/site-packages (from torch>=1.11.0->sentence_transformers) (2.2.0)\n",
      "Requirement already satisfied: jinja2 in /home/aamir/.local/lib/python3.9/site-packages (from torch>=1.11.0->sentence_transformers) (3.1.3)\n",
      "Requirement already satisfied: nvidia-cuda-nvrtc-cu12==12.1.105 in /home/aamir/.local/lib/python3.9/site-packages (from torch>=1.11.0->sentence_transformers) (12.1.105)\n",
      "Requirement already satisfied: nvidia-nvjitlink-cu12 in /home/aamir/.local/lib/python3.9/site-packages (from nvidia-cusolver-cu12==11.4.5.107->torch>=1.11.0->sentence_transformers) (12.4.99)\n",
      "Requirement already satisfied: tokenizers<0.19,>=0.14 in /home/aamir/.local/lib/python3.9/site-packages (from transformers<5.0.0,>=4.32.0->sentence_transformers) (0.15.2)\n",
      "Requirement already satisfied: regex!=2019.12.17 in /home/aamir/.local/lib/python3.9/site-packages (from transformers<5.0.0,>=4.32.0->sentence_transformers) (2023.12.25)\n",
      "Requirement already satisfied: safetensors>=0.4.1 in /home/aamir/.local/lib/python3.9/site-packages (from transformers<5.0.0,>=4.32.0->sentence_transformers) (0.4.2)\n",
      "Requirement already satisfied: MarkupSafe>=2.0 in /home/aamir/.local/lib/python3.9/site-packages (from jinja2->torch>=1.11.0->sentence_transformers) (2.1.5)\n",
      "Requirement already satisfied: python-dateutil>=2.8.2 in /home/aamir/.local/lib/python3.9/site-packages (from pandas->datasets) (2.9.0.post0)\n",
      "Requirement already satisfied: pytz>=2020.1 in /home/aamir/.local/lib/python3.9/site-packages (from pandas->datasets) (2024.1)\n",
      "Requirement already satisfied: tzdata>=2022.7 in /home/aamir/.local/lib/python3.9/site-packages (from pandas->datasets) (2024.1)\n",
      "Requirement already satisfied: six>=1.5 in /usr/lib/python3/dist-packages (from python-dateutil>=2.8.2->pandas->datasets) (1.16.0)\n",
      "Requirement already satisfied: threadpoolctl>=2.0.0 in /home/aamir/.local/lib/python3.9/site-packages (from scikit-learn->sentence_transformers) (3.3.0)\n",
      "Requirement already satisfied: joblib>=1.2.0 in /home/aamir/.local/lib/python3.9/site-packages (from scikit-learn->sentence_transformers) (1.3.2)\n",
      "Requirement already satisfied: mpmath>=0.19 in /home/aamir/.local/lib/python3.9/site-packages (from sympy->torch>=1.11.0->sentence_transformers) (1.3.0)\n"
     ]
    }
   ],
   "source": [
    "!pip install sentence_transformers datasets beir faiss-cpu"
   ]
  },
  {
   "cell_type": "code",
   "execution_count": 2,
   "metadata": {},
   "outputs": [
    {
     "name": "stderr",
     "output_type": "stream",
     "text": [
      "/home/aamir/.local/lib/python3.9/site-packages/tqdm/auto.py:21: TqdmWarning: IProgress not found. Please update jupyter and ipywidgets. See https://ipywidgets.readthedocs.io/en/stable/user_install.html\n",
      "  from .autonotebook import tqdm as notebook_tqdm\n"
     ]
    }
   ],
   "source": [
    "from sentence_transformers import SentenceTransformer\n",
    "from sentence_transformers import models\n",
    "from datasets import load_dataset\n",
    "from beir.retrieval.evaluation import EvaluateRetrieval\n",
    "from mteb import MTEB\n",
    "import numpy as np\n",
    "import faiss\n",
    "import time\n",
    "import os"
   ]
  },
  {
   "cell_type": "markdown",
   "metadata": {},
   "source": [
    "Let's use the worlds best model xD"
   ]
  },
  {
   "cell_type": "code",
   "execution_count": 3,
   "metadata": {},
   "outputs": [],
   "source": [
    "model = SentenceTransformer(\"mixedbread-ai/mxbai-embed-large-v1\")"
   ]
  },
  {
   "cell_type": "markdown",
   "metadata": {},
   "source": [
    "TrecCovid is a nice benchmark, not too large, not too small, also pretty difficult."
   ]
  },
  {
   "cell_type": "code",
   "execution_count": 4,
   "metadata": {},
   "outputs": [],
   "source": [
    "task = \"mteb/trec-covid\"\n",
    "dataset = load_dataset(task, \"corpus\")\n",
    "docs_ids = dataset[\"corpus\"][\"_id\"]\n",
    "features = [d[\"title\"] + \" \" + d[\"text\"] for d in dataset[\"corpus\"]]"
   ]
  },
  {
   "cell_type": "markdown",
   "metadata": {},
   "source": [
    "Let's speedup the calculation by using fp16"
   ]
  },
  {
   "cell_type": "code",
   "execution_count": 5,
   "metadata": {},
   "outputs": [],
   "source": [
    "_ = model.half()"
   ]
  },
  {
   "cell_type": "markdown",
   "metadata": {},
   "source": [
    "On 4xA100 it should take ~2min"
   ]
  },
  {
   "cell_type": "code",
   "execution_count": 6,
   "metadata": {},
   "outputs": [
    {
     "name": "stdout",
     "output_type": "stream",
     "text": [
      "Embeddings computed. Shape: (171332, 1024)\n"
     ]
    }
   ],
   "source": [
    "pool = model.start_multi_process_pool()\n",
    "\n",
    "# normalize_embeddings=True will normalize the embeddings to unit length before indexing so the dot product is equal to the cosine similarity\n",
    "emb = model.encode_multi_process(features, pool, normalize_embeddings=True)\n",
    "print(\"Embeddings computed. Shape:\", emb.shape)\n",
    "\n",
    "model.stop_multi_process_pool(pool)"
   ]
  },
  {
   "cell_type": "markdown",
   "metadata": {},
   "source": [
    "FP32 Index"
   ]
  },
  {
   "cell_type": "code",
   "execution_count": 7,
   "metadata": {},
   "outputs": [],
   "source": [
    "index = faiss.IndexFlatIP(emb.shape[1])\n",
    "index.add(emb)\n",
    "faiss.write_index(index, \"index_fp32.faiss\")"
   ]
  },
  {
   "cell_type": "markdown",
   "metadata": {},
   "source": [
    "Binary Index, convert embeddings using simple thresholding"
   ]
  },
  {
   "cell_type": "code",
   "execution_count": 8,
   "metadata": {},
   "outputs": [
    {
     "name": "stdout",
     "output_type": "stream",
     "text": [
      "Binary embeddings computed. Shape: (171332, 128)\n"
     ]
    }
   ],
   "source": [
    "bemb = np.packbits(emb > 0).reshape(emb.shape[0], -1)\n",
    "print(\"Binary embeddings computed. Shape:\", bemb.shape)\n",
    "num_dim = emb.shape[1]\n",
    "bindex = faiss.IndexBinaryFlat(num_dim)\n",
    "bindex.add(bemb)\n",
    "faiss.write_index_binary(bindex, \"index_binary.faiss\")"
   ]
  },
  {
   "cell_type": "markdown",
   "metadata": {},
   "source": [
    "Compression size is ~32 as expected"
   ]
  },
  {
   "cell_type": "code",
   "execution_count": 9,
   "metadata": {},
   "outputs": [
    {
     "name": "stdout",
     "output_type": "stream",
     "text": [
      "File size of index_fp32.faiss: 701775917\n",
      "File size of index_binary.faiss: 21930529\n",
      "Compression ratio: 31.999953899880847\n"
     ]
    }
   ],
   "source": [
    "# check file size\n",
    "fp32_index_size = os.path.getsize(\"index_fp32.faiss\")\n",
    "binary_index_size = os.path.getsize(\"index_binary.faiss\")\n",
    "print(\"File size of index_fp32.faiss:\", fp32_index_size)\n",
    "print(\"File size of index_binary.faiss:\", binary_index_size)\n",
    "print(\"Compression ratio:\", fp32_index_size / binary_index_size)"
   ]
  },
  {
   "cell_type": "markdown",
   "metadata": {},
   "source": [
    "Some BEIR stuff for the eval later"
   ]
  },
  {
   "cell_type": "code",
   "execution_count": 10,
   "metadata": {},
   "outputs": [],
   "source": [
    "qrels_df = load_dataset(task)[\"test\"]\n",
    "qrels = {}\n",
    "for row in qrels_df:\n",
    "    qid = row['query-id']\n",
    "    cid = row['corpus-id']\n",
    "    \n",
    "    if row['score'] > 0:\n",
    "        if qid not in qrels:\n",
    "            qrels[qid] = {}\n",
    "        qrels[qid][cid] = int(row['score'])"
   ]
  },
  {
   "cell_type": "code",
   "execution_count": 11,
   "metadata": {},
   "outputs": [],
   "source": [
    "queries = load_dataset(task, \"queries\")\n",
    "queries = queries.filter(lambda x: x['_id'] in qrels)\n",
    "\n",
    "query_ids = queries[\"queries\"][\"_id\"]\n",
    "queries = [\"Represent this sentence for searching relevant passages: \" + d[\"text\"] for d in queries[\"queries\"]]"
   ]
  },
  {
   "cell_type": "code",
   "execution_count": 12,
   "metadata": {},
   "outputs": [],
   "source": [
    "model.float()\n",
    "query_emb = model.encode(queries, convert_to_numpy=True, normalize_embeddings=True)\n",
    "query_bemb = np.where(query_emb < 0, 0, 1).astype(np.uint8) # binarize\n",
    "query_bemb = np.packbits(query_bemb).reshape(query_bemb.shape[0], -1)"
   ]
  },
  {
   "cell_type": "markdown",
   "metadata": {},
   "source": [
    "`score_multiply` is used for helping the evaluation. It is expecting that the relevant elements have a higher score, while hamming distance gives us a lower score."
   ]
  },
  {
   "cell_type": "code",
   "execution_count": 13,
   "metadata": {},
   "outputs": [],
   "source": [
    "def faiss_search(index, queries_emb, k=[10, 100], float_embed = None, score_multiply = 1, oversample = 1):\n",
    "    start_time = time.time()\n",
    "    faiss_scores, faiss_doc_ids = index.search(queries_emb, max(k) * oversample)\n",
    "    print(f\"Search took {(time.time()-start_time):.4f} sec\")\n",
    "    \n",
    "    query2id = {idx: qid for idx, qid in enumerate(query_ids)}\n",
    "    doc2id = {idx: cid for idx, cid in enumerate(docs_ids)}\n",
    "    id2doc = {cid: idx for idx, cid in enumerate(docs_ids)}\n",
    "\n",
    "    faiss_results = {}\n",
    "    for idx in range(0, len(faiss_scores)):\n",
    "        qid = query2id[idx]\n",
    "        doc_scores = {doc2id[doc_id]: score.item() * score_multiply for doc_id, score in zip(faiss_doc_ids[idx], faiss_scores[idx])}\n",
    "       \n",
    "        # Rescore\n",
    "        if float_embed is not None:\n",
    "            bin_doc_emb = np.asarray([index.reconstruct(id2doc[doc_id]) for doc_id in doc_scores])\n",
    "            bin_doc_emb_unpacked = np.unpackbits(bin_doc_emb, axis=-1).astype(\"int\")\n",
    "            \n",
    "            scores_cont = (float_embed[idx] @ bin_doc_emb_unpacked.T)\n",
    "            doc_scores = {doc_id: score_cont for doc_id, score_cont in zip(doc_scores, scores_cont)}\n",
    "\n",
    "        faiss_results[qid] = doc_scores\n",
    "\n",
    "        \n",
    "    ndcg, map_score, recall, precision = EvaluateRetrieval.evaluate(qrels, faiss_results, k)\n",
    "    acc = EvaluateRetrieval.evaluate_custom(qrels, faiss_results, [3, 5, 10], metric=\"acc\")\n",
    "    print(ndcg)\n",
    "    print(recall)\n",
    "    print(acc)"
   ]
  },
  {
   "cell_type": "markdown",
   "metadata": {},
   "source": [
    "### Baseline: Normal exact search\n",
    "We mostly care about NDCG@10 here."
   ]
  },
  {
   "cell_type": "code",
   "execution_count": 14,
   "metadata": {},
   "outputs": [
    {
     "name": "stdout",
     "output_type": "stream",
     "text": [
      "Search took 0.4522 sec\n",
      "{'NDCG@10': 0.75558, 'NDCG@100': 0.56317}\n",
      "{'Recall@10': 0.02136, 'Recall@100': 0.13842}\n",
      "{'Accuracy@3': 0.98, 'Accuracy@5': 1.0, 'Accuracy@10': 1.0}\n"
     ]
    }
   ],
   "source": [
    "faiss_search(index, query_emb)"
   ]
  },
  {
   "cell_type": "markdown",
   "metadata": {},
   "source": [
    "### W/O Rescoring\n",
    "\n",
    "We loose around 53% of the performance. But its pretty fast ~30-40x faster."
   ]
  },
  {
   "cell_type": "code",
   "execution_count": 15,
   "metadata": {},
   "outputs": [
    {
     "name": "stdout",
     "output_type": "stream",
     "text": [
      "Search took 0.0146 sec\n",
      "{'NDCG@10': 0.72723, 'NDCG@100': 0.50933}\n",
      "{'Recall@10': 0.02007, 'Recall@100': 0.12191}\n",
      "{'Accuracy@3': 1.0, 'Accuracy@5': 1.0, 'Accuracy@10': 1.0}\n"
     ]
    }
   ],
   "source": [
    "faiss_search(bindex, query_bemb, score_multiply=-1, oversample=10)"
   ]
  },
  {
   "cell_type": "markdown",
   "metadata": {},
   "source": [
    "### With Rescoring\n",
    "\n",
    "Still extremely fast, with the difference that we retain 99% of the performance. We verified similar behavior for SciFact and ArguAna. Accuracy was also boosted."
   ]
  },
  {
   "cell_type": "code",
   "execution_count": 16,
   "metadata": {},
   "outputs": [
    {
     "name": "stdout",
     "output_type": "stream",
     "text": [
      "Search took 0.0143 sec\n"
     ]
    },
    {
     "name": "stdout",
     "output_type": "stream",
     "text": [
      "{'NDCG@10': 0.75496, 'NDCG@100': 0.53638}\n",
      "{'Recall@10': 0.02128, 'Recall@100': 0.13022}\n",
      "{'Accuracy@3': 1.0, 'Accuracy@5': 1.0, 'Accuracy@10': 1.0}\n"
     ]
    }
   ],
   "source": [
    "faiss_search(bindex, query_bemb, float_embed=query_emb, oversample=10)"
   ]
  },
  {
   "cell_type": "markdown",
   "metadata": {},
   "source": [
    "## Conclusion\n",
    "\n",
    "Binary embedding enables extremely fast retrieval and low storage usage, at the expense of a slight performance loss, which can be mitigated by using a reranker. This has cool applications for on-device usage, large-scale developments, etc. We should also explore its potential for other tasks, such as clustering and deduplication at scale."
   ]
  }
 ],
 "metadata": {
  "kernelspec": {
   "display_name": "base",
   "language": "python",
   "name": "python3"
  },
  "language_info": {
   "codemirror_mode": {
    "name": "ipython",
    "version": 3
   },
   "file_extension": ".py",
   "mimetype": "text/x-python",
   "name": "python",
   "nbconvert_exporter": "python",
   "pygments_lexer": "ipython3",
   "version": "3.9.2"
  }
 },
 "nbformat": 4,
 "nbformat_minor": 2
}
